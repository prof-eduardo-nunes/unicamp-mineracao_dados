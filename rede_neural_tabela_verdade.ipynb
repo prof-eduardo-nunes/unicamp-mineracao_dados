{
  "nbformat": 4,
  "nbformat_minor": 0,
  "metadata": {
    "colab": {
      "provenance": [],
      "authorship_tag": "ABX9TyNpgpf+MmvTdGQVueCBmBZ3",
      "include_colab_link": true
    },
    "kernelspec": {
      "name": "python3",
      "display_name": "Python 3"
    },
    "language_info": {
      "name": "python"
    }
  },
  "cells": [
    {
      "cell_type": "markdown",
      "metadata": {
        "id": "view-in-github",
        "colab_type": "text"
      },
      "source": [
        "<a href=\"https://colab.research.google.com/github/prof-eduardo-nunes/unicamp-mineracao_dados/blob/main/rede_neural_tabela_verdade.ipynb\" target=\"_parent\"><img src=\"https://colab.research.google.com/assets/colab-badge.svg\" alt=\"Open In Colab\"/></a>"
      ]
    },
    {
      "cell_type": "code",
      "execution_count": null,
      "metadata": {
        "colab": {
          "base_uri": "https://localhost:8080/"
        },
        "id": "i6B750FKm1kh",
        "outputId": "51b56181-2506-422a-e46a-f800d3235423"
      },
      "outputs": [
        {
          "output_type": "stream",
          "name": "stdout",
          "text": [
            "pesos0:\n",
            "[[ 2.4199367  -2.67320531 -2.7228382 ]\n",
            " [-5.50117648 -1.57104029  6.5289077 ]\n",
            " [ 2.47074686 -2.38676974 -2.80108603]]\n",
            "pesos1:\n",
            "[[  6.20097726]\n",
            " [ -4.31664843]\n",
            " [-10.55365564]]\n",
            "saida esperada:\n",
            "[[0]\n",
            " [1]\n",
            " [0]\n",
            " [0]\n",
            " [1]\n",
            " [1]\n",
            " [0]\n",
            " [0]]\n",
            "camada saida calculada:\n",
            "[[1.29435969e-02]\n",
            " [9.91547304e-01]\n",
            " [1.29444588e-05]\n",
            " [4.05827882e-05]\n",
            " [9.91417396e-01]\n",
            " [9.97728493e-01]\n",
            " [4.10689580e-05]\n",
            " [3.87871081e-03]]\n",
            "Erro: 0.004527963879789513\n"
          ]
        },
        {
          "output_type": "execute_result",
          "data": {
            "text/plain": [
              "0"
            ]
          },
          "metadata": {},
          "execution_count": 5
        }
      ],
      "source": [
        "import numpy as np  # Importa a biblioteca NumPy, usada para operações com arrays e matrizes.\n",
        "\n",
        "# Dados de entrada da rede neural (8 exemplos com 3 atributos cada).\n",
        "entradas = np.array([[0,0,0],\n",
        "                     [1,0,0],\n",
        "                     [0,1,0],\n",
        "                     [1,1,0],\n",
        "                     [0,0,1],\n",
        "                     [1,0,1],\n",
        "                     [0,1,1],\n",
        "                     [1,1,1]])\n",
        "\n",
        "# Saídas esperadas para cada entrada (valores alvo).\n",
        "saidas = np.array([[0],[1],[0],[0],[1],[1],[0],[0]])\n",
        "\n",
        "# Inicializa os pesos da primeira camada (entrada -> oculta) com valores aleatórios entre -1 e 1.\n",
        "pesos0 = 2 * np.random.random((3, 3)) - 1  # 3 entradas, 3 neurônios na camada oculta\n",
        "# Inicializa os pesos da segunda camada (oculta -> saída) com valores aleatórios entre -1 e 1.\n",
        "pesos1 = 2 * np.random.random((3, 1)) - 1  # 3 neurônios ocultos, 1 neurônio de saída\n",
        "\n",
        "epocas = 1000            # Número de iterações para o treinamento\n",
        "taxaAprendizagem = 10    # Fator que controla a atualização dos pesos (ajuste alto nesse caso)\n",
        "\n",
        "# Função de ativação sigmoide\n",
        "def sigmoid(soma):\n",
        "    return 1 / (1 + np.exp(-soma))\n",
        "\n",
        "# Derivada da função sigmoide, usada para calcular o gradiente\n",
        "def sigmoidDerivada(sig):\n",
        "    return sig * (1 - sig)\n",
        "\n",
        "# Função principal para treinar a rede\n",
        "def treina_rede(entradas, saidas, pesos0, pesos1, epocas, taxaAprendizagem):\n",
        "    for j in range(epocas):\n",
        "        # Forward pass: calcula a saída da rede\n",
        "        camadaEntrada = entradas\n",
        "        somaSinapse0 = np.dot(camadaEntrada, pesos0)     # Produto da entrada com os pesos da 1ª camada\n",
        "        camadaOculta = sigmoid(somaSinapse0)              # Aplica a função de ativação (camada oculta)\n",
        "\n",
        "        somaSinapse1 = np.dot(camadaOculta, pesos1)       # Produto da camada oculta com os pesos da 2ª camada\n",
        "        camadaSaida = sigmoid(somaSinapse1)               # Saída final da rede\n",
        "\n",
        "        # Backpropagation: ajusta os pesos com base no erro\n",
        "        erroCamadaSaida = saidas - camadaSaida            # Calcula o erro da saída\n",
        "        mediaAbsoluta = np.mean(np.abs(erroCamadaSaida))  # Erro médio absoluto para fins de exibição\n",
        "\n",
        "        derivadaSaida = sigmoidDerivada(camadaSaida)\n",
        "        deltaSaida = erroCamadaSaida * derivadaSaida      # Gradiente da camada de saída\n",
        "\n",
        "        # Calcula o delta da camada oculta\n",
        "        pesos1Transposta = pesos1.T\n",
        "        deltaSaidaXPeso = deltaSaida.dot(pesos1Transposta)\n",
        "        deltaCamadaOculta = deltaSaidaXPeso * sigmoidDerivada(camadaOculta)\n",
        "\n",
        "        # Atualiza os pesos entre a camada oculta e a saída\n",
        "        camadaOcultaTransposta = camadaOculta.T\n",
        "        pesosNovo1 = camadaOcultaTransposta.dot(deltaSaida)\n",
        "        pesos1 = pesos1 + (pesosNovo1 * taxaAprendizagem)\n",
        "\n",
        "        # Atualiza os pesos entre a entrada e a camada oculta\n",
        "        camadaEntradaTransposta = camadaEntrada.T\n",
        "        pesosNovo0 = camadaEntradaTransposta.dot(deltaCamadaOculta)\n",
        "        pesos0 = pesos0 + (pesosNovo0 * taxaAprendizagem)\n",
        "\n",
        "    # Exibe os resultados após o treinamento\n",
        "    print(\"pesos0:\")\n",
        "    print(pesos0)\n",
        "\n",
        "    print(\"pesos1:\")\n",
        "    print(pesos1)\n",
        "\n",
        "    print(\"saida esperada:\")\n",
        "    print(saidas)\n",
        "\n",
        "    print(\"camada saida calculada:\")\n",
        "    print(camadaSaida)\n",
        "\n",
        "    print(\"Erro: \" + str(mediaAbsoluta))\n",
        "\n",
        "    return 0\n",
        "\n",
        "# Executa o treinamento da rede neural\n",
        "treina_rede(entradas, saidas, pesos0, pesos1, epocas, taxaAprendizagem)"
      ]
    }
  ]
}