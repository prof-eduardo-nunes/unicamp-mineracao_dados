{
  "nbformat": 4,
  "nbformat_minor": 0,
  "metadata": {
    "colab": {
      "provenance": [],
      "authorship_tag": "ABX9TyNyxBIXP2eKAVvnajGROlIs",
      "include_colab_link": true
    },
    "kernelspec": {
      "name": "python3",
      "display_name": "Python 3"
    },
    "language_info": {
      "name": "python"
    }
  },
  "cells": [
    {
      "cell_type": "markdown",
      "metadata": {
        "id": "view-in-github",
        "colab_type": "text"
      },
      "source": [
        "<a href=\"https://colab.research.google.com/github/prof-eduardo-nunes/unicamp-mineracao_dados/blob/main/rede_neural_tabela_verdade.ipynb\" target=\"_parent\"><img src=\"https://colab.research.google.com/assets/colab-badge.svg\" alt=\"Open In Colab\"/></a>"
      ]
    },
    {
      "cell_type": "code",
      "execution_count": 5,
      "metadata": {
        "colab": {
          "base_uri": "https://localhost:8080/"
        },
        "id": "i6B750FKm1kh",
        "outputId": "51b56181-2506-422a-e46a-f800d3235423"
      },
      "outputs": [
        {
          "output_type": "stream",
          "name": "stdout",
          "text": [
            "pesos0:\n",
            "[[ 2.4199367  -2.67320531 -2.7228382 ]\n",
            " [-5.50117648 -1.57104029  6.5289077 ]\n",
            " [ 2.47074686 -2.38676974 -2.80108603]]\n",
            "pesos1:\n",
            "[[  6.20097726]\n",
            " [ -4.31664843]\n",
            " [-10.55365564]]\n",
            "saida esperada:\n",
            "[[0]\n",
            " [1]\n",
            " [0]\n",
            " [0]\n",
            " [1]\n",
            " [1]\n",
            " [0]\n",
            " [0]]\n",
            "camada saida calculada:\n",
            "[[1.29435969e-02]\n",
            " [9.91547304e-01]\n",
            " [1.29444588e-05]\n",
            " [4.05827882e-05]\n",
            " [9.91417396e-01]\n",
            " [9.97728493e-01]\n",
            " [4.10689580e-05]\n",
            " [3.87871081e-03]]\n",
            "Erro: 0.004527963879789513\n"
          ]
        },
        {
          "output_type": "execute_result",
          "data": {
            "text/plain": [
              "0"
            ]
          },
          "metadata": {},
          "execution_count": 5
        }
      ],
      "source": [
        "\n",
        "import numpy as np\n",
        "\n",
        "\n",
        "entradas = np.array([[0,0,0],\n",
        "                     [1,0,0],\n",
        "                     [0,1,0],\n",
        "                     [1,1,0],\n",
        "                     [0,0,1],\n",
        "                     [1,0,1],\n",
        "                     [0,1,1],\n",
        "                     [1,1,1]])\n",
        "\n",
        "saidas = np.array([[0],[1],[0],[0],[1],[1],[0],[0]])\n",
        "\n",
        "\n",
        "pesos0 = 2*np.random.random((3,3)) - 1\n",
        "pesos1 = 2*np.random.random((3,1)) - 1\n",
        "\n",
        "epocas = 1000\n",
        "taxaAprendizagem = 10\n",
        "\n",
        "\n",
        "def sigmoid(soma):\n",
        "    return 1 / (1 + np.exp(-soma))\n",
        "\n",
        "def sigmoidDerivada(sig):\n",
        "    return sig * (1 - sig)\n",
        "\n",
        "def treina_rede(entradas, saidas, pesos0, pesos1, epocas, taxaAprendizagem):\n",
        "    for j in range(epocas):\n",
        "        camadaEntrada = entradas\n",
        "        somaSinapse0 = np.dot(camadaEntrada, pesos0)\n",
        "        camadaOculta = sigmoid(somaSinapse0)\n",
        "\n",
        "        somaSinapse1 = np.dot(camadaOculta, pesos1)\n",
        "        camadaSaida = sigmoid(somaSinapse1)\n",
        "\n",
        "        erroCamadaSaida = saidas - camadaSaida\n",
        "        mediaAbsoluta = np.mean(np.abs(erroCamadaSaida))\n",
        "\n",
        "        derivadaSaida = sigmoidDerivada(camadaSaida)\n",
        "        deltaSaida = erroCamadaSaida * derivadaSaida\n",
        "\n",
        "        pesos1Transposta = pesos1.T\n",
        "        deltaSaidaXPeso = deltaSaida.dot(pesos1Transposta)\n",
        "        deltaCamadaOculta = deltaSaidaXPeso * sigmoidDerivada(camadaOculta)\n",
        "\n",
        "        camadaOcultaTransposta = camadaOculta.T\n",
        "        pesosNovo1 = camadaOcultaTransposta.dot(deltaSaida)\n",
        "        pesos1 = (pesos1) + (pesosNovo1 * taxaAprendizagem)\n",
        "\n",
        "        camadaEntradaTransposta = camadaEntrada.T\n",
        "        pesosNovo0 = camadaEntradaTransposta.dot(deltaCamadaOculta)\n",
        "        pesos0 = (pesos0) + (pesosNovo0 * taxaAprendizagem)\n",
        "\n",
        "\n",
        "    print(\"pesos0:\")\n",
        "    print(pesos0)\n",
        "\n",
        "    print(\"pesos1:\")\n",
        "    print(pesos1)\n",
        "\n",
        "    print(\"saida esperada:\")\n",
        "    print(saidas)\n",
        "\n",
        "    print(\"camada saida calculada:\")\n",
        "    print(camadaSaida)\n",
        "\n",
        "    print(\"Erro: \" + str(mediaAbsoluta))\n",
        "\n",
        "    return 0\n",
        "\n",
        "\n",
        "\n",
        "treina_rede(entradas, saidas, pesos0, pesos1, epocas, taxaAprendizagem)"
      ]
    }
  ]
}