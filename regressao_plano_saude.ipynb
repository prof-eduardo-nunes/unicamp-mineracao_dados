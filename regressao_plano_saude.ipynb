{
  "nbformat": 4,
  "nbformat_minor": 0,
  "metadata": {
    "colab": {
      "provenance": [],
      "authorship_tag": "ABX9TyMry5HK+9a9LDkgWOhfWjcP",
      "include_colab_link": true
    },
    "kernelspec": {
      "name": "python3",
      "display_name": "Python 3"
    },
    "language_info": {
      "name": "python"
    }
  },
  "cells": [
    {
      "cell_type": "markdown",
      "metadata": {
        "id": "view-in-github",
        "colab_type": "text"
      },
      "source": [
        "<a href=\"https://colab.research.google.com/github/prof-eduardo-nunes/unicamp-mineracao_dados/blob/main/regressao_plano_saude.ipynb\" target=\"_parent\"><img src=\"https://colab.research.google.com/assets/colab-badge.svg\" alt=\"Open In Colab\"/></a>"
      ]
    },
    {
      "cell_type": "code",
      "execution_count": null,
      "metadata": {
        "id": "6m_cIFsm5oc1"
      },
      "outputs": [],
      "source": [
        "# Instruções basiconas de sempre.\n",
        "\n",
        "# Lidar com dataframes.\n",
        "import numpy as np\n",
        "import pandas as pd\n",
        "\n",
        "# Lidar com gráficos.\n",
        "import matplotlib.pyplot as plt\n",
        "import seaborn as sns\n",
        "import plotly\n",
        "from bokeh.plotting import figure\n",
        "from bokeh.io import (show,\n",
        "                      output_notebook)\n",
        "from plotting import (multiple_histograms_plot,\n",
        "                      bar_plot_with_categorical,\n",
        "                      plot_confusion_matrix,\n",
        "                      plot_confusion_matrix_2,\n",
        "                      plot_roc)\n",
        "\n",
        "# Lidar com preparação de dados.\n",
        "from data_prep import data_prep as dp # Eu que fiz esse modulinho (\"uuuuuuuuuma bosta!\").\n",
        "from sklearn.impute import SimpleImputer\n",
        "from sklearn.preprocessing import StandardScaler\n",
        "from sklearn.model_selection import (train_test_split,\n",
        "                                     cross_val_score,\n",
        "                                     StratifiedKFold)\n",
        "\n",
        "# Lidar com validação de modelos.\n",
        "from sklearn.metrics import (confusion_matrix,\n",
        "                             accuracy_score,\n",
        "                             classification_report)\n",
        "\n",
        "pd.set_option('display.max_columns', None)\n",
        "pd.set_option('display.max_colwidth', -1)\n",
        "pd.set_option('display.max_rows', 500)"
      ]
    },
    {
      "cell_type": "code",
      "source": [
        "nomeDaBase = \"../bases/plano_saude.csv\"\n",
        "df = pd.read_csv(nomeDaBase, sep=\",\", encoding=\"utf-8\")"
      ],
      "metadata": {
        "id": "NVBYMKPu6V5n"
      },
      "execution_count": null,
      "outputs": []
    },
    {
      "cell_type": "code",
      "source": [
        "df.head(5).T"
      ],
      "metadata": {
        "id": "1xdZBlS86Xlm"
      },
      "execution_count": null,
      "outputs": []
    },
    {
      "cell_type": "code",
      "source": [
        "df.info()"
      ],
      "metadata": {
        "id": "lYqQ6TJk6b2n"
      },
      "execution_count": null,
      "outputs": []
    },
    {
      "cell_type": "code",
      "source": [
        "df.describe().T"
      ],
      "metadata": {
        "id": "9NTBKk9K6jTd"
      },
      "execution_count": null,
      "outputs": []
    },
    {
      "cell_type": "markdown",
      "source": [
        "**Breve análise da base:**\n",
        "\n",
        "não há nulos;\n",
        "\n",
        "só existem duas variáveis, a idade (variável independente) e o custo (variável dependente);\n",
        "\n",
        "e não há valores que apresentam incosistências (ex.: negativos quando não é possível)."
      ],
      "metadata": {
        "id": "Zg8uORbc6soe"
      }
    },
    {
      "cell_type": "code",
      "source": [
        "# Separando os fatores/previsores da resposta/target:\n",
        "\n",
        "x = df.iloc[:, 0].values.reshape(-1,1)\n",
        "y = df.iloc[:, 1].values.reshape(-1,1)\n",
        "\n",
        "# IMPORTANTE! Tive que fazer um reshape nos valores de x e y."
      ],
      "metadata": {
        "id": "AmRj6DMp66nH"
      },
      "execution_count": null,
      "outputs": []
    },
    {
      "cell_type": "code",
      "source": [
        "from sklearn.linear_model import LinearRegression\n",
        "regressor = LinearRegression()\n",
        "\n",
        "regressor.fit(x, y)\n",
        "\n",
        "y_pred = regressor.predict(x)"
      ],
      "metadata": {
        "id": "1devgwU57eRs"
      },
      "execution_count": null,
      "outputs": []
    },
    {
      "cell_type": "code",
      "source": [
        "print(\"Intercepto = {:.3f}\".format(regressor.intercept_[0]))\n",
        "print(\"Coeficiente = {:.3f}\".format(regressor.coef_[0][0]))"
      ],
      "metadata": {
        "id": "sHya7eWQ7jcH"
      },
      "execution_count": null,
      "outputs": []
    },
    {
      "cell_type": "markdown",
      "source": [
        "\n",
        "**Visualisando:**"
      ],
      "metadata": {
        "id": "7JBEbi2o7rQT"
      }
    },
    {
      "cell_type": "code",
      "source": [
        "reta_x = np.linspace(min(x)-5, max(x)+5,100).reshape(-1,1)\n",
        "reta_y = regressor.predict(reta_x)\n",
        "reta_df = np.concatenate((reta_x, reta_y), axis=1)\n",
        "reta_df = pd.DataFrame(reta_df, columns=(\"x_idade\", \"y_custo\"))"
      ],
      "metadata": {
        "id": "SSLUMRQI7kZv"
      },
      "execution_count": null,
      "outputs": []
    },
    {
      "cell_type": "code",
      "source": [
        "sns.set()\n",
        "dimensoes = (10,5)\n",
        "fig, ax = plt.subplots(figsize=dimensoes)\n",
        "ax.set(xlim = (min(x)-10, max(x)+10),ylim=(min(y)-100, max(y)+100))\n",
        "ax = sns.scatterplot(x=\"idade\", y=\"custo\", data=df, alpha=0.75);\n",
        "ax = sns.lineplot(x=\"x_idade\", y=\"y_custo\", data=reta_df, alpha=0.3, palette=\"red\");"
      ],
      "metadata": {
        "id": "uYbOChgu7z_H"
      },
      "execution_count": null,
      "outputs": []
    },
    {
      "cell_type": "markdown",
      "source": [
        "**Verificando o como o modelo se saiu**"
      ],
      "metadata": {
        "id": "wdWicTCE764P"
      }
    },
    {
      "cell_type": "code",
      "source": [
        "from sklearn.metrics import mean_absolute_error, mean_squared_error, r2_score\n",
        "\n",
        "print(\"MSE: {:.3f}\".format(mean_squared_error(y, y_pred)))\n",
        "print(\"RMSE: {:.3f}\".format(np.sqrt(mean_squared_error(y, y_pred))))\n",
        "print(\"MAE: {:.3f}\".format(mean_absolute_error(y, y_pred)))\n",
        "# print(\"MAPE:, \", mean_absolute_percentage_error(y_test, y_pred))\n",
        "print(\"R2: {:.3f}\".format(r2_score(y, y_pred)))\n",
        "\n",
        "################################################################################\n",
        "# Cálculo do R2 ajustado:\n",
        "def r2_ajustado(x, y, y_pred):\n",
        "    \"\"\"\n",
        "    r2_ajustado retorna o R² Ajustado e recebe como argumento as séries com o\n",
        "    valor alvo teste e o predito.\n",
        "    \"\"\"\n",
        "    n = x_train.shape[0]\n",
        "    k = x_train.shape[1]\n",
        "    return (1-((n-1)/(n-(k+1)))*(1-r2_score(y, y_pred)))\n",
        "################################################################################\n",
        "\n",
        "print(\"R2 Ajustado: {:.3}\".format(r2_ajustado(x, y, y_pred)))"
      ],
      "metadata": {
        "id": "z8LbAl38650T"
      },
      "execution_count": null,
      "outputs": []
    },
    {
      "cell_type": "code",
      "source": [
        "from yellowbrick.regressor import ResidualsPlot\n",
        "\n",
        "sns.set()\n",
        "dimensoes = (10,5)\n",
        "fig, ax = plt.subplots(figsize=dimensoes)\n",
        "\n",
        "visualizador = ResidualsPlot(regressor)\n",
        "visualizador.fit(x, y)\n",
        "visualizador.poof();"
      ],
      "metadata": {
        "id": "xo3l1YKg7BK0"
      },
      "execution_count": null,
      "outputs": []
    }
  ]
}